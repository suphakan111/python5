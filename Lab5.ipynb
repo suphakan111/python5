{
  "nbformat": 4,
  "nbformat_minor": 0,
  "metadata": {
    "colab": {
      "provenance": [],
      "include_colab_link": true
    },
    "kernelspec": {
      "name": "python3",
      "display_name": "Python 3"
    },
    "language_info": {
      "name": "python"
    }
  },
  "cells": [
    {
      "cell_type": "markdown",
      "metadata": {
        "id": "view-in-github",
        "colab_type": "text"
      },
      "source": [
        "<a href=\"https://colab.research.google.com/github/suphakan111/python5/blob/main/Lab5.ipynb\" target=\"_parent\"><img src=\"https://colab.research.google.com/assets/colab-badge.svg\" alt=\"Open In Colab\"/></a>"
      ]
    },
    {
      "cell_type": "markdown",
      "source": [
        "รหัสนักศึกษา : 66015xxx ชื่อ :"
      ],
      "metadata": {
        "id": "ayuUhdui4PbN"
      }
    },
    {
      "cell_type": "markdown",
      "source": [
        "Exercise 5.1 ให้เขียน function ชื่อ day_of_year(day, month ,year) โดยมีการคืนค่า คือ day_of_years เป็นวันที่ลำดับที่เท่าใดของปีคริสตศักราช year\n",
        "ปีที่เป็น Leap Year เดือนกุมภาพันธ์จะมี 29 วัน\n",
        "ให้สร้างฟังก์ชัน is_leap เพื่อตรวจสอบ leap year แยกออกมา และให้ฟังก์ชัน day_of_year เรียกใช้ is_leap อีกที\n"
      ],
      "metadata": {
        "id": "ZXM4rXQB6Q9o"
      }
    },
    {
      "cell_type": "code",
      "source": [
        "days_in_month = [31, 28, 31, 30, 31, 30, 31, 31, 30, 31, 30, 31]\n",
        "\n",
        "def leap_year(year):\n",
        "  if year%4 == 0 and year%100 != 0 or year%400 == 0:\n",
        "    return True\n",
        "  else :\n",
        "    return False\n",
        "\n",
        "def day_of_year(day, month, year):\n",
        "  sumn=0\n",
        "  if leap_year(year):\n",
        "    days_in_month[1] = 29\n",
        "  else:\n",
        "    days_in_month[1]= 28\n",
        "  sumn = sum(days_in_month[:month-1])+day\n",
        "  return sumn\n",
        "\n",
        "# Testcases\n",
        "print(\"Normal year (2023):\")\n",
        "print(f\"1 Jan 2023: {day_of_year(1, 1, 2023)}\")  # ควรได้ 1\n",
        "print(f\"1 Feb 2023: {day_of_year(1, 2, 2023)}\")  # ควรได้ 32\n",
        "print(f\"1 Mar 2023: {day_of_year(1, 3, 2023)}\")  # ควรได้ 60\n",
        "print(f\"31 Dec 2023: {day_of_year(31, 12, 2023)}\")  # ควรได้ 365\n",
        "\n",
        "print(\"\\nLeap year (2024):\")\n",
        "print(f\"1 Jan 2024: {day_of_year(1, 1, 2024)}\")  # ควรได้ 1\n",
        "print(f\"29 Feb 2024: {day_of_year(29, 2, 2024)}\")  # ควรได้ 60\n",
        "print(f\"1 Mar 2024: {day_of_year(1, 3, 2024)}\")  # ควรได้ 61\n",
        "print(f\"31 Dec 2024: {day_of_year(31, 12, 2024)}\")  # ควรได้ 366\n",
        "\n",
        "print(\"\\nCentury year, not a leap year (1900):\")\n",
        "print(f\"1 Mar 1900: {day_of_year(1, 3, 1900)}\")  # ควรได้ 60\n",
        "\n",
        "print(\"\\nCentury year, leap year (2000):\")\n",
        "print(f\"1 Mar 2000: {day_of_year(1, 3, 2000)}\")  # ควรได้ 61\n",
        "\n",
        "print(\"\\nMid-year dates:\")\n",
        "print(f\"15 Jun 2023: {day_of_year(15, 6, 2023)}\")  # ควรได้ 166\n",
        "print(f\"15 Jun 2024: {day_of_year(15, 6, 2024)}\")  # ควรได้ 167 (Leap year)\n",
        "\n",
        "print(\"\\nLast day of each quarter:\")\n",
        "print(f\"31 Mar 2023: {day_of_year(31, 3, 2023)}\")  # ควรได้ 90\n",
        "print(f\"30 Jun 2023: {day_of_year(30, 6, 2023)}\")  # ควรได้ 181\n",
        "print(f\"30 Sep 2023: {day_of_year(30, 9, 2023)}\")  # ควรได้ 273\n",
        "print(f\"31 Dec 2023: {day_of_year(31, 12, 2023)}\")  # ควรได้ 365"
      ],
      "metadata": {
        "id": "oerlrWw46aJZ",
        "outputId": "c9a5f73e-5eac-4675-8a44-615c6f7b9d3d",
        "colab": {
          "base_uri": "https://localhost:8080/"
        }
      },
      "execution_count": null,
      "outputs": [
        {
          "output_type": "stream",
          "name": "stdout",
          "text": [
            "Normal year (2023):\n",
            "1 Jan 2023: 1\n",
            "1 Feb 2023: 32\n",
            "1 Mar 2023: 60\n",
            "31 Dec 2023: 365\n",
            "\n",
            "Leap year (2024):\n",
            "1 Jan 2024: 1\n",
            "29 Feb 2024: 60\n",
            "1 Mar 2024: 61\n",
            "31 Dec 2024: 366\n",
            "\n",
            "Century year, not a leap year (1900):\n",
            "1 Mar 1900: 60\n",
            "\n",
            "Century year, leap year (2000):\n",
            "1 Mar 2000: 61\n",
            "\n",
            "Mid-year dates:\n",
            "15 Jun 2023: 166\n",
            "15 Jun 2024: 167\n",
            "\n",
            "Last day of each quarter:\n",
            "31 Mar 2023: 90\n",
            "30 Jun 2023: 181\n",
            "30 Sep 2023: 273\n",
            "31 Dec 2023: 365\n"
          ]
        }
      ]
    },
    {
      "cell_type": "markdown",
      "source": [
        "Exercise 5.2 ให้เขียนฟังก์ชัน เพิ่มเติมเป็น date_diff\n",
        "รับข้อมูลในรูปแบบ “dd-mm-yyyy” เช่น date_diff(“1-1-2018”, “1-1-2020”) จะได้ 731 วัน date_diff(“25-12-1999”, “9-3-2000”) จะได้ 76 วัน\n",
        "ให้เขียนฟังก์ชัน day_in_year โดยจะส่งค่าจำนวนวันของปี (365 หรือ 366) โดยรับข้อมูลเป็น ปี\n",
        "ส่งคืนข้อมูลเป็นจำนวนวันตั้งแต่วันที่แรก จนถึงวันที่สอง โดยรวมทั้ง 2 วันนั้นเข้าไปด้วย\n",
        "ให้สมมติว่าวันแรก จะต้องมาก่อนวันที่สองเสมอ ดังนั้นไม่ต้องตรวจสอบ\n"
      ],
      "metadata": {
        "id": "fkkuNcAcCo-z"
      }
    },
    {
      "cell_type": "code",
      "source": [
        "def is_leap(year):\n",
        "  if year%4 == 0 and year%100 != 0 or year%400 == 0:\n",
        "    return True\n",
        "  else :\n",
        "    return False\n",
        "\n",
        "def day_of_month(month, year):\n",
        "  if month in [1,3,5,7,8,10,12]:\n",
        "    return 31\n",
        "  elif month in [4,6,9,11]:\n",
        "    return 30\n",
        "  elif month == 2:\n",
        "    if is_leap(year):\n",
        "      return 29\n",
        "    else:\n",
        "      return 28\n",
        "\n",
        "def day_in_year(year):\n",
        "    return 366 if is_leap(year) else 365\n",
        "\n",
        "def date_diff(date1, date2):\n",
        "  d1,m1,y1 = date1.split(\"-\")\n",
        "  d2,m2,y2 = date2.split(\"-\")\n",
        "  day1 = int(d1)\n",
        "  for month in range(1,int(m1)):\n",
        "    day1 += day_of_month(month,int(y1))\n",
        "  day2 = int(d2)\n",
        "  for month in range(1,int(m2)):\n",
        "    day2 += day_of_month(month,int(y2))\n",
        "\n",
        "  day_on_year = 0\n",
        "  for year in range(int(y1),int(y2)):\n",
        "    day_on_year += day_in_year(year)\n",
        "  return day_on_year - day1 + day2 +1\n",
        "# ทดสอบฟังก์ชัน\n",
        "print(date_diff(\"1-1-2018\", \"1-1-2020\"))  # ควรได้ 731\n",
        "print(date_diff(\"25-12-1999\", \"9-3-2000\"))  # ควรได้ 76\n",
        "print(date_diff(\"1-1-2000\", \"1-1-2001\"))  # ควรได้ 367 (ปี 2000 เป็น leap year)\n",
        "print(date_diff(\"1-1-2001\", \"1-1-2002\"))  # ควรได้ 366 (ปี 2001 ไม่ใช่ leap year)\n",
        "print(date_diff(\"1-3-2000\", \"1-3-2001\"))  # ควรได้ 367 (ข้ามปี leap year)\n",
        "print(date_diff(\"1-1-2023\", \"31-12-2023\"))  # ควรได้ 365 (ทั้งปี 2023)\n"
      ],
      "metadata": {
        "id": "dwNIkw0wDRjF",
        "outputId": "470ec81b-1e91-47e0-b220-571715893b04",
        "colab": {
          "base_uri": "https://localhost:8080/"
        }
      },
      "execution_count": null,
      "outputs": [
        {
          "output_type": "stream",
          "name": "stdout",
          "text": [
            "731\n",
            "76\n",
            "367\n",
            "366\n",
            "366\n",
            "365\n"
          ]
        }
      ]
    },
    {
      "cell_type": "markdown",
      "source": [
        "Exercise 5.3 จากโปรแกรม 5.2 ให้เขียนฟังก์ชัน date_diff  เพิ่มเติม โดยให้มีการตรวจสอบ\n",
        "วันที่ต้องเป็นวันที่ถูกต้องของเดือนนั้นๆ\n",
        "เดือนต้องอยู่ระหว่าง 1-12\n",
        "เดือนกุมภาพันธ์ของปีที่มี Leap Year เท่านั้นที่จะมี 29 วันได้\n",
        "หากข้อมูล Input ผิดพลาด ให้ Return -1\n"
      ],
      "metadata": {
        "id": "JU8jQcg4WDoF"
      }
    },
    {
      "cell_type": "code",
      "source": [
        "def is_leap(year):\n",
        "  if year%4 == 0 and year%100 != 0 or year%400 == 0:\n",
        "    return True\n",
        "  else :\n",
        "    return False\n",
        "\n",
        "def day_of_month(month, year):\n",
        "  if month in [1,3,5,7,8,10,12]:\n",
        "    return 31\n",
        "  elif month in [4,6,9,11]:\n",
        "    return 30\n",
        "  elif month == 2:\n",
        "    if is_leap(year):\n",
        "      return 29\n",
        "    else:\n",
        "      return 28\n",
        "\n",
        "def is_check_monorday(day,month,year):\n",
        "    if month < 1 or month > 12:\n",
        "      return False\n",
        "    if day < 1 or day > day_of_month(month,year):\n",
        "      return False\n",
        "    return True\n",
        "\n",
        "def day_in_year(year):\n",
        "    return 366 if is_leap(year) else 365\n",
        "\n",
        "def date_diff(date1, date2):\n",
        "  try:\n",
        "      d1,m1,y1 = date1.split(\"-\")\n",
        "      d2,m2,y2 = date2.split(\"-\")\n",
        "  except ValueError:\n",
        "    return -1\n",
        "  if not (is_check_monorday(int(d1),int(m1),int(y1)) and is_check_monorday(int(d2),int(m2),int(y2))):\n",
        "    return -1\n",
        "\n",
        "  day1 = int(d1)\n",
        "  for month in range(1,int(m1)):\n",
        "    day1 += day_of_month(month,int(y1))\n",
        "  day2 = int(d2)\n",
        "  for month in range(1,int(m2)):\n",
        "    day2 += day_of_month(month,int(y2))\n",
        "\n",
        "  day_on_year = 0\n",
        "  for year in range(int(y1),int(y2)):\n",
        "    day_on_year += day_in_year(year)\n",
        "  return day_on_year - day1 + day2 +1\n",
        "\n",
        "# ทดสอบฟังก์ชัน\n",
        "print(date_diff(\"1-1-2018\", \"1-1-2020\"))  # ควรได้ 731\n",
        "print(date_diff(\"25-12-1999\", \"9-3-2000\"))  # ควรได้ 76\n",
        "print(date_diff(\"1-1-2000\", \"1-1-2001\"))  # ควรได้ 367 (ปี 2000 เป็น leap year)\n",
        "print(date_diff(\"1-1-2001\", \"1-1-2002\"))  # ควรได้ 366 (ปี 2001 ไม่ใช่ leap year)\n",
        "print(date_diff(\"1-3-2000\", \"1-3-2001\"))  # ควรได้ 367 (ข้ามปี leap year)\n",
        "print(date_diff(\"1-1-2023\", \"31-12-2023\"))  # ควรได้ 365 (ทั้งปี 2023)\n",
        "\n",
        "# ทดสอบกรณีข้อมูลไม่ถูกต้อง\n",
        "print(date_diff(\"31-4-2023\", \"1-5-2023\"))  # ควรได้ -1 (เดือนเมษายนมี 30 วัน)\n",
        "print(date_diff(\"29-2-2023\", \"1-3-2023\"))  # ควรได้ -1 (ปี 2023 ไม่ใช่ leap year)\n",
        "print(date_diff(\"1-13-2023\", \"1-1-2024\"))  # ควรได้ -1 (เดือนไม่ถูกต้อง)\n",
        "print(date_diff(\"abc\", \"1-1-2024\"))  # ควรได้ -1 (รูปแบบวันที่ไม่ถูกต้อง)"
      ],
      "metadata": {
        "id": "OgqrXbFVWEML",
        "outputId": "1ffe9eb5-db95-4d64-9e9c-fcb1b483f51f",
        "colab": {
          "base_uri": "https://localhost:8080/"
        }
      },
      "execution_count": null,
      "outputs": [
        {
          "output_type": "stream",
          "name": "stdout",
          "text": [
            "731\n",
            "76\n",
            "367\n",
            "366\n",
            "366\n",
            "365\n",
            "-1\n",
            "-1\n",
            "-1\n",
            "-1\n"
          ]
        }
      ]
    },
    {
      "cell_type": "markdown",
      "source": [
        "1.\tปลาหมอคางดำเพศเมีย 1 ตัว เมื่ออายุครบ 2 เดือน จะสามารถสืบพันธ์ได้ โดยระยะเวลาตั้งท้องจนถึง\n",
        "วางไข่ของตัวเมียจะใช้เวลา 21 วัน และฟักในปากเพศผู้อีก 7 วัน (สามารถรวมเป็น 1 เดือนได้) โดยออกไข่ครั้งละ 300 ฟอง กำหนดให้ไข่ฟักเป็นเพศผู้และเพศเมียอย่างละครึ่ง และเมื่อวางไข่แล้วจะสามารถสืบพันธ์ต่อได้ทันที กำหนดให้ปลามีอายุ 5 ปี และปลาทั้งหมดจะตาย p% ทุก 1 เดือน จงหาว่าปลาหมอคางดำหลุดจากฟาร์ม n ตัวเป็นเพศผู้และเพศเมียอย่างละครึ่ง จงเขียนโปรแกรมรับค่า n และ p ให้แสดงผลจำนวนปลาทุก 3 เดือน เป็นเวลา 10 ปี ให้เขียนเป็นฟังก์ชัน ชื่อ simulate_fish_population()\n"
      ],
      "metadata": {
        "id": "tdBCjJzeWb2c"
      }
    },
    {
      "cell_type": "code",
      "execution_count": 93,
      "metadata": {
        "id": "JmvNmVQh4C9X",
        "outputId": "c293f7c6-9e0f-4385-e635-54580b6e7488",
        "colab": {
          "base_uri": "https://localhost:8080/"
        }
      },
      "outputs": [
        {
          "output_type": "stream",
          "name": "stdout",
          "text": [
            "Month 3: Male Fish = 12549488, Female Fish = 12549488\n",
            "Month 6: Male Fish = 31498101960211, Female Fish = 31498101960211\n",
            "Month 9: Male Fish = 79057441377026228224, Female Fish = 79057441377026228224\n",
            "Month 12: Male Fish = 198427163801079396754784256, Female Fish = 198427163801079396754784256\n",
            "Month 15: Male Fish = 498034576484309649079769396936704, Female Fish = 498034576484309649079769396936704\n",
            "Month 18: Male Fish = 1250022600849957007352146804861871063040, Female Fish = 1250022600849957007352146804861871063040\n",
            "Month 21: Male Fish = 3137445824878222268933677380072719292360032256, Female Fish = 3137445824878222268933677380072719292360032256\n",
            "Month 24: Male Fish = 7874710663113310885206482527352101239666322387763200, Female Fish = 7874710663113310885206482527352101239666322387763200\n",
            "Month 27: Male Fish = 19764825112209673765461487637188632927773328160718537621504, Female Fish = 19764825112209673765461487637188632927773328160718537621504\n",
            "Month 30: Male Fish = 49607957476597496841288673259372867620102422338919184991617286144, Female Fish = 49607957476597496841288673259372867620102422338919184991617286144\n",
            "Month 33: Male Fish = 124511571998664426687828127450891990917829597057639459467840303761719296, Female Fish = 124511571998664426687828127450891990917829597057639459467840303761719296\n",
            "Month 36: Male Fish = 312512998925468436159298063639796998646744120952411178017354680361432870027264, Female Fish = 312512998925468436159298063639796998646744120952411178017354680361432870027264\n",
            "Month 39: Male Fish = 784379900837148046254157806435789692460249702794216012779517779715568319796107804672, Female Fish = 784379900837148046254157806435789692460249702794216012779517779715568319796107804672\n",
            "Month 42: Male Fish = 1968723960132059349679539983793770600749859701939800885098987134384867076797131557674418176, Female Fish = 1968723960132059349679539983793770600749859701939800885098987134384867076797131557674418176\n",
            "Month 45: Male Fish = 4941322472773001546650080640621411225900540301101717184681300307567562281240979201059828856258560, Female Fish = 4941322472773001546650080640621411225900540301101717184681300307567562281240979201059828856258560\n",
            "Month 48: Male Fish = 12402281007589124527920417668321687745454802246434970595007972849672653351925941882576433947911412252672, Female Fish = 12402281007589124527920417668321687745454802246434970595007972849672653351925941882576433947911412252672\n",
            "Month 51: Male Fish = 31128624986275423366832413043373804665304356008928915656729214909343721345088406970948888097024775091835109376, Female Fish = 31128624986275423366832413043373804665304356008928915656729214909343721345088406970948888097024775091835109376\n",
            "Month 54: Male Fish = 78130086952813918745037869665188599677316305758140667881455630625841597244276432089821236053733131689764813289816064, Female Fish = 78130086952813918745037869665188599677316305758140667881455630625841597244276432089821236053733131689764813289816064\n",
            "Month 57: Male Fish = 196099586472118437053222278362622631090873780111123374280039439794357462066990182415768225160024724732494909729424004874240, Female Fish = 196099586472118437053222278362622631090873780111123374280039439794357462066990182415768225160024724732494909729424004874240\n",
            "Month 60: Male Fish = 492192563893605919841153786074687627577720841509871547987485554984492411251208651741754452507279211921941467352038124210691768320, Female Fish = 492192563893605919841153786074687627577720841509871547987485554984492411251208651741754452507279211921941467352038124210691768320\n",
            "Month 63: Male Fish = 1235359667556489876986781702014482256509643478525104486308946057850890713437499321584935852751764581637659447563235706343271662325071872, Female Fish = 1235359667556489876986781702014482256509643478525104486308946057850890713437499321584935852751764581637659447563235706343271662325071872\n",
            "Month 66: Male Fish = 3100643163221724834120357981158596752564816204518118899016538302128153449472333447161006030613524696580166376336411597977076065392417912651776, Female Fish = 3100643163221724834120357981158596752564816204518118899016538302128153449472333447161006030613524696580166376336411597977076065392417912651776\n",
            "Month 69: Male Fish = 7782339247524445356182233450076668220157257882414819205427829249339615760797696510148770725494158232202673741101117130543771507569461725195956912128, Female Fish = 7782339247524445356182233450076668220157257882414819205427829249339615760797696510148770725494158232202673741101117130543771507569461725195956912128\n",
            "Month 72: Male Fish = 19532981054365977183556746268893656658696551773442257348244431668512239603049156598575480691874773468947616999703278423985631369175013081755614706705367040, Female Fish = 19532981054365977183556746268893656658696551773442257348244431668512239603049156598575480691874773468947616999703278423985631369175013081755614706705367040\n",
            "Month 75: Male Fish = 49026049460846471520997705261297541590969944439976974924698640208607060167121472438660523123444410735325224334060137557462183836465397777036660936386680148983808, Female Fish = 49026049460846471520997705261297541590969944439976974924698640208607060167121472438660523123444410735325224334060137557462183836465397777036660936386680148983808\n",
            "Month 78: Male Fish = 123051034506590462496376304049481270577572556054083762026202695681996895870596433263869193025368384269658605413786725244172349407698845215522167549815182020459871862784, Female Fish = 123051034506590462496376304049481270577572556054083762026202695681996895870596433263869193025368384269658605413786725244172349407698845215522167549815182020459871862784\n",
            "Month 81: Male Fish = 308847179400709631006208238075111674184396834284640888272930833079379786454429947300243825994583957174184430453715854196678306158801124222265814513333725204437700453421023232, Female Fish = 308847179400709631006208238075111674184396834284640888272930833079379786454429947300243825994583957174184430453715854196678306158801124222265814513333725204437700453421023232\n",
            "Month 84: Male Fish = 775179019065177614655414175825052347345392963982651898280113733644233454317701003182344282264610322022274386124409484403120366124625759627441132082350067666169008361588029866901504, Female Fish = 775179019065177614655414175825052347345392963982651898280113733644233454317701003182344282264610322022274386124409484403120366124625759627441132082350067666169008361588029866901504\n",
            "Month 87: Male Fish = 1945630563195845332822948731245939328508262121656327580337506412142952823270653196648082563585678103043103166843429057163434234240555791200083445559157845903817011971535535832533630451712, Female Fish = 1945630563195845332822948731245939328508262121656327580337506412142952823270653196648082563585678103043103166843429057163434234240555791200083445559157845903817011971535535832533630451712\n",
            "Month 90: Male Fish = 4883360095332374030378327005590975382102248818927414824206306551176809793292397705524918076208709273257777361200325175902758762751165137712700627015989222344149576656250676860922782133419769856, Female Fish = 4883360095332374030378327005590975382102248818927414824206306551176809793292397705524918076208709273257777361200325175902758762751165137712700627015989222344149576656250676860922782133419769856\n",
            "Month 93: Male Fish = 12256800582693243754694430338387280300598352729809075404889559872850055238195627365059485582173155027844872360473590089421287584974970277593107771473336867032801133360985916918994653267521306145849344, Female Fish = 12256800582693243754694430338387280300598352729809075404889559872850055238195627365059485582173155027844872360473590089421287584974970277593107771473336867032801133360985916918994653267521306145849344\n",
            "Month 96: Male Fish = 30763482026955542474612025506042535556978614919582240073540656772568312027875863716362780573605921135075690834977536738843310092357485201971430253814958498758579971547896630865646071047877107133115952791552, Female Fish = 30763482026955542474612025506042535556978614919582240073540656772568312027875863716362780573605921135075690834977536738843310092357485201971430253814958498758579971547896630865646071047877107133115952791552\n",
            "Month 99: Male Fish = 77213610520769518736706972138926611762342671578712525059128126233169503764549316517990297766175548633629740512668086094628293812121121805516527729212834288741478665080537267863962351643067941211356044113465049088, Female Fish = 77213610520769518736706972138926611762342671578712525059128126233169503764549316517990297766175548633629740512668086094628293812121121805516527729212834288741478665080537267863962351643067941211356044113465049088\n",
            "Month 102: Male Fish = 193799311938392485421598845494738977298473744925281801482577008120247050115229521849056148605912579071898500821035359055461435549007412640085741109244262328225789882152836849191764650439072882350310413169741702883180544, Female Fish = 193799311938392485421598845494738977298473744925281801482577008120247050115229521849056148605912579071898500821035359055461435549007412640085741109244262328225789882152836849191764650439072882350310413169741702883180544\n",
            "Month 105: Male Fish = 486419078896610702768491638481959522718046394431797727744183984612823110623713962132081839437210392738694085156414181417175466997608274943994970087406267051364528555445043031419110787792031669239330679461260449543761132781568, Female Fish = 486419078896610702768491638481959522718046394431797727744183984612823110623713962132081839437210392738694085156414181417175466997608274943994970087406267051364528555445043031419110787792031669239330679461260449543761132781568\n",
            "Month 108: Male Fish = 1220868732443393911052119043731587990581587692642785021281913582009856443100368237577184829340852868437333399143796606745826447061372200767929679184591727971985055331151943336118114165293237737486131813942688894578554695606056517632, Female Fish = 1220868732443393911052119043731587990581587692642785021281913582009856443100368237577184829340852868437333399143796606745826447061372200767929679184591727971985055331151943336118114165293237737486131813942688894578554695606056517632\n",
            "Month 111: Male Fish = 3064272201738107799607882661255224503215981494998687232714592626900165243480331768650180793102596450667981479307782474274049011808647696761568354297478472554872148324429559241560991860174491372595381686497887697394640196268150871826628608, Female Fish = 3064272201738107799607882661255224503215981494998687232714592626900165243480331768650180793102596450667981479307782474274049011808647696761568354297478472554872148324429559241560991860174491372595381686497887697394640196268150871826628608\n",
            "Month 114: Male Fish = 7691051361068641049834759770101546442947583166060336331565602275548470726193870656806840532502181043772006472210991954362125540017774464744289936088487812834661748595881464984911543926132415906237492796285026764305179485393930402104324325900288, Female Fish = 7691051361068641049834759770101546442947583166060336331565602275548470726193870656806840532502181043772006472210991954362125540017774464744289936088487812834661748595881464984911543926132415906237492796285026764305179485393930402104324325900288\n",
            "Month 117: Male Fish = 19303856558514481190936466039257431391269365241973293448685030165765170235352336581526509927869693340231603549520296863968173944896245668132674167208994675129825041811510397117284784808748216605943119589958768321284661972056160636759092716804434296832, Female Fish = 19303856558514481190936466039257431391269365241973293448685030165765170235352336581526509927869693340231603549520296863968173944896245668132674167208994675129825041811510397117284784808748216605943119589958768321284661972056160636759092716804434296832\n",
            "Month 120: Male Fish = 48450967304413618095292677601074759341291421509036395699591568649970616072682851190940323968968949153075999975633946050529726110450200413904918097830622341534625184877807119513284026149691193346824916416306278712489625337599496366236598308754054619724775424, Female Fish = 48450967304413618095292677601074759341291421509036395699591568649970616072682851190940323968968949153075999975633946050529726110450200413904918097830622341534625184877807119513284026149691193346824916416306278712489625337599496366236598308754054619724775424\n"
          ]
        }
      ],
      "source": [
        "import math\n",
        "\n",
        "def simulate_fish_population(n, p, months=3):\n",
        "    import math\n",
        "    total_months = 10 * 12\n",
        "    male_fish = n // 2\n",
        "    female_fish = n // 2\n",
        "    def apply_mortality(fish_count, mortality_rate):\n",
        "        return fish_count * (1 - mortality_rate / 100)\n",
        "    def reproduce(female_fish):\n",
        "        new_fish = female_fish * 300\n",
        "        return new_fish // 2, new_fish // 2\n",
        "    for month in range(1, total_months + 1):\n",
        "        male_fish = apply_mortality(male_fish, p)\n",
        "        female_fish = apply_mortality(female_fish, p)\n",
        "        if month % 1 == 0:\n",
        "            new_male_fish, new_female_fish = reproduce(female_fish)\n",
        "            male_fish += new_male_fish\n",
        "            female_fish += new_female_fish\n",
        "        if month % months == 0:\n",
        "            print(f\"Month {month}: Male Fish = {math.floor(male_fish)}, Female Fish = {math.floor(female_fish)}\")\n",
        "simulate_fish_population(10, 10)\n",
        "\n",
        "\n",
        "# Run simulation\n",
        "n = 2  # Initial number of fish\n",
        "p = 10  # Monthly mortality rate\n",
        "\n",
        "# simulate_fish_population(n, p)\n",
        "\n",
        "# ถ้าเริ่มต้นด้วยปลา 2 ตัว ตายเดือนละ 10%\n",
        "# เดือนที่ 1 ไข่ 300 ไบ\n",
        "# เดือนที่ 2 ไข่ 300 ใบ + ลูกปลา 270 ตัว\n",
        "# เดือนที่ 3 ไข่ 300 ใบ + ลูกปลา 270 ตัว + ปลาโตเต็มวัย 243 ตัว + 2 = 515 ตัว\n"
      ]
    },
    {
      "cell_type": "markdown",
      "source": [
        "2.\tให้เขียน function find_mismatch ซึ่งรับ string มา 2 ค่า โดยจะส่งค่ากลับดังนี้\n",
        "- 0 เมื่อ string ทั้ง 2 ตัว เหมือนกัน โดยไม่สนใจ case\n",
        "- 1 เมื่อ string 1 จะเหมือน string 2 โดยการลบและ/หรือเพิ่มตัวอักษรเพียง 1 ตัว\n",
        "- 2 เมื่อ string ไม่เข้าเกณฑ์ 0 หรือ 1\n",
        "\n",
        "\n",
        "| String  1| \tString2\t|ผลลัพธ์|\n",
        "|----------|----------|------|\n",
        "|Python|\tJava\t|2|\n",
        "|book\t |  boot\t|1|\n",
        "|fan\t |  fun\t  |1|\n",
        "|sin\t | sink\t  |1 เพราะเพิ่ม k ใน str2 แล้วจะเหมือนกัน\n",
        "|Dog\t | dog\t  |0\n",
        "|poke\t | spoke\t|1 เพิ่ม s ใน str2 แล้วเหมือนกัน\n",
        "|poker |\tpoke\t|1 ตัด r ใน str1 ออกแล้วเหมือนกัน\n",
        "\n",
        "\n",
        "\n",
        "\n"
      ],
      "metadata": {
        "id": "F0_ZEPOYbDKf"
      }
    },
    {
      "cell_type": "code",
      "source": [
        "def find_mismatch(str1, str2):\n",
        "  str1 = str1.lower()\n",
        "  str2 = str2.lower()\n",
        "\n",
        "  if str1 == str2 :\n",
        "    return 0\n",
        "  if abs(len(str1)-len(str2)) > 1:\n",
        "    return 2\n",
        "\n",
        "  if len(str2) == len(str1)+1:\n",
        "    for i in range(len(str2)):\n",
        "      if str2[:i]+str2[i+1:] == str1:\n",
        "        return  1\n",
        "  elif len(str1) == len(str2)+1:\n",
        "    for i in range(len(str1)):\n",
        "      if str1[:i]+str1[i+1:] == str2:\n",
        "        return  1\n",
        "\n",
        "  if len(str1)==len(str2):\n",
        "    count = 0\n",
        "    for i in range(len(str1)):\n",
        "      if str1[i] != str2[i]:\n",
        "        count+=1\n",
        "        if count > 1:\n",
        "          return 2\n",
        "    return 1\n",
        "print(find_mismatch(\"Python\",\"Java\"))\n",
        "print(find_mismatch(\"book\",\"boot\"))\n",
        "print(find_mismatch(\"fan\",\"fun\"))\n",
        "print(find_mismatch(\"sin\",\"sink\"))\n",
        "print(find_mismatch(\"Dog\", \"dog\"))\n",
        "print(find_mismatch(\"poke\", \"spoke\"))\n",
        "print(find_mismatch(\"poker\", \"poke\"))"
      ],
      "metadata": {
        "id": "jyVxAb-MXnz2",
        "outputId": "b985937e-444d-4467-9933-21b10de2c116",
        "colab": {
          "base_uri": "https://localhost:8080/"
        }
      },
      "execution_count": null,
      "outputs": [
        {
          "output_type": "stream",
          "name": "stdout",
          "text": [
            "2\n",
            "1\n",
            "1\n",
            "1\n",
            "0\n",
            "1\n",
            "1\n"
          ]
        }
      ]
    },
    {
      "cell_type": "markdown",
      "source": [
        "3.\tจากข้อ 1 ให้เขียนฟังก์ชันชื่อ spelling_correction โดยรับ 2 argument ตัวแรกเป็นประโยค (string) และตัวที่ 2 เป็น list ของคำ (correct_spells) โดยฟังก์ชันนี้มีหน้าที่ตรวจสอบแต่ละ word ใน input string กับคำที่อยู่ใน correct_spells โดยค่าที่คืนกลับมาจะมีดังนี้ (พยายามเรียกใช้ฟังก์ชันในข้อ 1)\n",
        "-\tถ้าคำที่อยู่ในประโยค ตรงกับคำที่อยู่ใน correct_spells ทุกอย่าง ก็จะ copy ไปที่ output string\n",
        "-\tถ้าคำที่อยู่ในประโยค ต่างจากคำที่อยู่ใน correct_spells โดยต่างกัน 1 ตัวอักษร โดยการเปลี่ยน การเพิ่ม หรือการลบ 1 ตัวอักษร คำที่อยู่ในประโยคจะถูกเปลี่ยนโดยคำที่อยู่ใน correct_spells และนำไปใส่ output string\n",
        "-\tถ้าคำที่ไม่พบในเงื่อนไขข้างต้นให้นำคำนั้นไปใส่ output string ได้เลย\n",
        "-\tคำที่ประกอบด้วย 1 หรือ 2 ตัวอักษรจะไม่ตรวจสอบ ให้นำคำนั้นไปใส่ output string ได้เลย\n",
        "-\tถ้ามี 2 คำใน correct_spells ที่ตรงตามเงื่อนไข ให้ใช้คำแรก\n",
        "-\tไม่สนใจตัวใหญ่ ตัวเล็ก\n",
        "-\tInput string จะมีได้เพียงอักษรภาษาอังกฤษเท่านั้น\n",
        "-\tในแต่ละคำจะคั่นด้วย 1 space ถ้ามี space มากกว่านั้นให้ตัดออก และตัด space จากหัวท้ายประโยค\n",
        "\n",
        "|ประโยค\t|correct_spells\t|output string |\n",
        "|-------|---------------|-------------|\n",
        "|Thes is the Firs cas\t|[‘that’,’first’,’case’,’car’]|\tthes is the first car|\n",
        "|programming is fan and easy\t|[‘programming’,’this’,’fun’,’easy’,book’]\t|programming is fun and easy|\n",
        "|Thes is vary essy\t|[‘this’,’is’,’very’,’easy’]\t|this is very easy|\n",
        "|Wee ipve Pythen\t|[‘we’,’live’,’ln’,’Python’]\t|we live python|\n",
        "\n",
        "\n"
      ],
      "metadata": {
        "id": "jzXp83HSbMh9"
      }
    },
    {
      "cell_type": "code",
      "source": [
        "def find_mismatch(str1, str2):\n",
        "  str1 = str1.lower()\n",
        "  str2 = str2.lower()\n",
        "\n",
        "  if str1 == str2 :\n",
        "    return 0\n",
        "  if abs(len(str1)-len(str2)) > 1:\n",
        "    return 2\n",
        "\n",
        "  if len(str2) == len(str1)+1:\n",
        "    for i in range(len(str2)):\n",
        "      if str2[:i]+str2[i+1:] == str1:\n",
        "        return  1\n",
        "  elif len(str1) == len(str2)+1:\n",
        "    for i in range(len(str1)):\n",
        "      if str1[:i]+str1[i+1:] == str2:\n",
        "        return  1\n",
        "\n",
        "  if len(str1)==len(str2):\n",
        "    count = 0\n",
        "    for i in range(len(str1)):\n",
        "      if str1[i] != str2[i]:\n",
        "        count+=1\n",
        "        if count > 1:\n",
        "          return 2\n",
        "    return 1\n",
        "def spelling_correction(input_string, correct_spells):\n",
        "  input_str = input_string.split()\n",
        "  for i in range(len(input_str)):\n",
        "    for j in range(len(correct_spells)):\n",
        "      if find_mismatch(input_str[i], correct_spells[j]) == 1:\n",
        "        input_str[i] = correct_spells[j]\n",
        "  return \" \".join(input_str)\n",
        "\n",
        "print(spelling_correction(\"Thes is the Firs cas\", ['that', 'first', 'case', 'car']))\n",
        "print(spelling_correction(\"programming is fan and easy\",['programming','this','fun','easy','book']))\n",
        "print(spelling_correction(\"Thes is vary essy\",['this', 'is', 'very', 'easy']))\n",
        "print(spelling_correction(\"Wee ipve Pythen\",['we', 'live', 'In', 'Python']))"
      ],
      "metadata": {
        "id": "4NW0Y1hXpfCt",
        "outputId": "224dca59-11ab-4855-f47a-7e942c84f31d",
        "colab": {
          "base_uri": "https://localhost:8080/"
        }
      },
      "execution_count": 90,
      "outputs": [
        {
          "output_type": "stream",
          "name": "stdout",
          "text": [
            "Thes is the first case\n",
            "programming is fun and easy\n",
            "this is very easy\n",
            "we ipve Python\n"
          ]
        }
      ]
    },
    {
      "cell_type": "markdown",
      "source": [
        "4. ให้เขียนฟังก์ชัน find_word_horizontal ซึ่งจะรับ list ขนาด 2 มิติ ของตัวอักษร (คล้ายกับเกม cross word) และ word ซึ่งเป็น string เป็น argument โดยฟังก์ชันนี้ จะค้นหาตามแถวของ list เพื่อหาตำแหน่งที่มีอักษรตรงกับคำใน word ถ้าพบ จะส่งคืน row index และ column index ของตัวอักษรแรก ถ้าไม่พบจะส่งคืน None\n",
        "\n",
        "```\n",
        "crosswords=[['s','d','o','g'],\n",
        "            ['c','u','c','m'],\n",
        "            ['a','c','a','t'],\n",
        "            ['t',' e','t','k']]\n",
        "\tword='cat'\n",
        "\tfind_word_horizontal(crosswords,word)\n",
        "```\n",
        "\n",
        "Output\n",
        "   [2,1]\n"
      ],
      "metadata": {
        "id": "sshYZJYZpfua"
      }
    },
    {
      "cell_type": "code",
      "source": [
        "def find_word_horizontal(crosswords, word):\n",
        "  rows = len(crosswords)\n",
        "  cols = len(crosswords[0])\n",
        "  len_word = len(word)\n",
        "  for i in range(rows):\n",
        "    for j in range(cols - len_word + 1):\n",
        "      match = True\n",
        "      for k in range(len_word):\n",
        "        if crosswords[i][j+k] != word[k]:\n",
        "          match = False\n",
        "          break\n",
        "      if match :\n",
        "          return(i, j)\n",
        "  return None\n",
        "\n",
        "crosswords=[['s','d','o','g'],\n",
        "            ['c','u','c','m'],\n",
        "            ['a','c','a','t'],\n",
        "            ['t',' e','t','k']]\n",
        "word='cat'\n",
        "find_word_horizontal(crosswords,word)"
      ],
      "metadata": {
        "id": "2z0nonPMqZ_Q",
        "outputId": "8ce4c512-fea8-40a6-f96a-0ac434ad722f",
        "colab": {
          "base_uri": "https://localhost:8080/"
        }
      },
      "execution_count": 76,
      "outputs": [
        {
          "output_type": "execute_result",
          "data": {
            "text/plain": [
              "(2, 1)"
            ]
          },
          "metadata": {},
          "execution_count": 76
        }
      ]
    },
    {
      "cell_type": "markdown",
      "source": [
        "5. ให้เขียนฟังก์ชัน find_word_vertical ซึ่งจะรับ list ขนาด 2 มิติ ของตัวอักษร (คล้ายกับเกม cross word) และ word ซึ่งเป็น string เป็น argument โดยฟังก์ชันนี้ จะค้นหาตามคอลัมน์ของ list เพื่อหาตำแหน่งที่มีอักษรตรงกับคำใน word ถ้าพบ จะส่งคืน row index และ column index ของตัวอักษรแรก ถ้าไม่พบจะส่งคืน None\n",
        "\n",
        "ตัวอย่าง\n",
        "```\n",
        "\tcrosswords=[['s','d','o','g'],\n",
        "              ['c','u','c','m'],\n",
        "              ['a','c','a','t'],\n",
        "              ['t',' e','t','k']]\n",
        "\tword='cat'\n",
        "\tfind_word_vertical(crosswords,word)\n",
        "```\n",
        "\n",
        "Output\n",
        "   [1,0]\n"
      ],
      "metadata": {
        "id": "sDhGHMPsqr6a"
      }
    },
    {
      "cell_type": "code",
      "source": [
        "def find_word_vertical(crosswords, word):\n",
        "  rows = len(crosswords)\n",
        "  cols = len(crosswords[0])\n",
        "  len_word = len(word)\n",
        "  for i in range(cols):\n",
        "    for j in range(rows - len_word +1):\n",
        "      match = True\n",
        "      for k in range(len_word):\n",
        "        if crosswords[j+k][i] != word[k]:\n",
        "          match = False\n",
        "          break\n",
        "      if match:\n",
        "          return (j,i)\n",
        "  return None\n",
        "\n",
        "crosswords=[['s','d','o','g'],\n",
        "              ['c','u','c','m'],\n",
        "              ['a','c','a','t'],\n",
        "              ['t',' e','t','k']]\n",
        "word='cat'\n",
        "find_word_vertical(crosswords,word)"
      ],
      "metadata": {
        "id": "R5Jp1CkQrEz9",
        "outputId": "ad84f4e3-9951-42d4-b3ee-eb512fae99ee",
        "colab": {
          "base_uri": "https://localhost:8080/"
        }
      },
      "execution_count": 78,
      "outputs": [
        {
          "output_type": "execute_result",
          "data": {
            "text/plain": [
              "(1, 0)"
            ]
          },
          "metadata": {},
          "execution_count": 78
        }
      ]
    },
    {
      "cell_type": "markdown",
      "source": [
        "6.\tให้เขียนฟังก์ชัน capitalize_word_in_crossword จะรับ list ขนาด 2 มิติ ของตัวอักษร (คล้ายกับเกม cross word) และ word ซึ่งเป็น string เป็น argument โดยฟังก์ชันนี้ จะค้นหาตาม row และ column ของ list เพื่อหาตำแหน่งที่มีอักษรตรงกับคำใน word ถ้าพบจะเปลี่ยนเป็นตัวใหญ่และ และส่งคืน list ที่แก้ไขแล้ว แต่ถ้าไม่เจอจะส่ง list เดิมกลับมา ให้ใช้ฟังก์ชันตามข้อ 3 และ 4 ช่วย\n",
        "\n",
        "```\n",
        "crosswords=[['s','d','o','g'],\n",
        "            ['c','u','c','m'],\n",
        "            ['a','x','a','t'],\n",
        "            ['t','e','t','k']]\n",
        "word='cat'\n",
        "capitalize_word_in_crossword(crosswords,word)\n",
        "```\n",
        "จะส่งค่ากลับ\n",
        "```\n",
        " [['s','d','o','g'],\n",
        "  ['C','u','c','m'],\n",
        "  ['A','x','a','t'],\n",
        "  ['T','e','t','k']]\n",
        "```\n",
        "```\n",
        "crosswords=[['s','d','o','g'],\n",
        "            ['c','u','c','m'],\n",
        "            ['a','c','a','t'],\n",
        "            ['t','e','t','k']]\n",
        "word='cat'\n",
        "capitalize_word_in_crossword(crosswords,word)\n",
        "จะส่งค่ากลับ                   \n",
        "[['s','d','o','g'],\n",
        " ['c','u','c','m'],\n",
        " ['a','C','A','T'],\n",
        " ['t','e','t','k']]\n",
        "```\n",
        "\n",
        "\n"
      ],
      "metadata": {
        "id": "dinoUBQTrDFp"
      }
    },
    {
      "cell_type": "code",
      "source": [
        "def capitalize_word_in_crossword_Horizontal(crosswords, word):\n",
        "    position= find_word_horizontal(crosswords,word)\n",
        "    rows,cols=position\n",
        "    for i in range(len(word)):\n",
        "        crosswords[rows][cols+i] = crosswords[rows][cols+i].upper()\n",
        "    return(crosswords)\n",
        "crosswords = [ ['s', 'd', 'o', 'g'],\n",
        "    ['a', 'u', 'a', 'm'],\n",
        "    ['a', 'c', 'a', 't'],\n",
        "    ['t', 'e', 't', 'k']]\n",
        "word = 'cat'\n",
        "if(find_word_horizontal(crosswords,word) != None):\n",
        "    result = capitalize_word_in_crossword_Horizontal(crosswords, word)\n",
        "    for i in range(len(result[0])):\n",
        "        print(result[i])\n",
        "else:\n",
        "    for i in range(len(crosswords[0])):\n",
        "        print(crosswords[i])\n",
        "print()\n",
        "\n",
        "\n",
        "def capitalize_word_in_crossword(crosswords, word):\n",
        "    position= find_word_vertical(crosswords,word)\n",
        "    rows,cols=position\n",
        "    for i in range(len(word)):\n",
        "        crosswords[rows+i][cols] = crosswords[rows+i][cols].upper()\n",
        "    return(crosswords)\n",
        "crosswords = [['s', 'd', 'o', 'g'],\n",
        "    ['c', 'u', 'c', 'm'],\n",
        "    ['a', 'c', 'a', 't'],\n",
        "    ['t', 'e', 't', 'k']]\n",
        "word = 'cat'\n",
        "if(find_word_vertical(crosswords,word) != None):\n",
        "    result = capitalize_word_in_crossword(crosswords, word)\n",
        "    for i in range(len(result[0])):\n",
        "        print(result[i])\n",
        "else:\n",
        "    for i in range(len(crosswords[0])):\n",
        "        print(crosswords[i])\n"
      ],
      "metadata": {
        "id": "IM99mZNs0css",
        "outputId": "a57ab2ca-4905-46cc-9291-ff3b8df1209c",
        "colab": {
          "base_uri": "https://localhost:8080/"
        }
      },
      "execution_count": 89,
      "outputs": [
        {
          "output_type": "stream",
          "name": "stdout",
          "text": [
            "['s', 'd', 'o', 'g']\n",
            "['a', 'u', 'a', 'm']\n",
            "['a', 'C', 'A', 'T']\n",
            "['t', 'e', 't', 'k']\n",
            "\n",
            "['s', 'd', 'o', 'g']\n",
            "['C', 'u', 'c', 'm']\n",
            "['A', 'c', 'a', 't']\n",
            "['T', 'e', 't', 'k']\n"
          ]
        }
      ]
    }
  ]
}